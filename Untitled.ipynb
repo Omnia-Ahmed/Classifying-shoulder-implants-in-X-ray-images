{
 "cells": [
  {
   "cell_type": "code",
   "execution_count": 16,
   "id": "4b07a529",
   "metadata": {},
   "outputs": [],
   "source": [
    "import glob\n",
    "import cv2\n",
    "import matplotlib.pyplot as plt\n",
    "from skimage.io import imread,imshow,imsave\n",
    "import os\n",
    "import numpy as np\n",
    "import random\n",
    "from sklearn.model_selection import train_test_split\n",
    "import statistics as s\n",
    "from sklearn.datasets import make_blobs\n",
    "import keras\n",
    "from keras.models import Sequential\n",
    "from keras.layers import Dense, Conv2D , MaxPool2D , Flatten , Dropout\n",
    "from keras.preprocessing.image import ImageDataGenerator\n",
    "from keras import optimizers\n",
    "import tensorflow as tf\n",
    "from tensorflow.keras.preprocessing import image\n",
    "from tensorflow.keras.preprocessing.image import ImageDataGenerator\n",
    "from tensorflow.keras.optimizers import RMSprop\n",
    "from tensorflow.keras.utils import to_categorical\n",
    "from keras.utils import np_utils"
   ]
  },
  {
   "cell_type": "code",
   "execution_count": 17,
   "id": "3291dbd1",
   "metadata": {},
   "outputs": [],
   "source": [
    "file = \"aidata\\\\Cofield\\\\*.jpg\"\n",
    "file2 = \"aidata\\\\Depuy\\\\*.jpg\"\n",
    "file3 = \"aidata\\\\Tornier\\\\*.jpg\"\n",
    "file4 = \"aidata\\\\Zimmer\\\\*.jpg\""
   ]
  },
  {
   "cell_type": "code",
   "execution_count": 18,
   "id": "08b2b427",
   "metadata": {},
   "outputs": [],
   "source": [
    "image = cv2.imread(file)\n",
    "image2 = cv2.imread(file2)\n",
    "image3 = cv2.imread(file3)\n",
    "image4 = cv2.imread(file4)\n"
   ]
  },
  {
   "cell_type": "code",
   "execution_count": 19,
   "id": "15976714",
   "metadata": {},
   "outputs": [],
   "source": [
    "images = [cv2.imread(image) for image in glob.glob(file)]"
   ]
  },
  {
   "cell_type": "code",
   "execution_count": 20,
   "id": "6fbad013",
   "metadata": {},
   "outputs": [],
   "source": [
    "images2 = [cv2.imread(image) for image in glob.glob(file2)]\n"
   ]
  },
  {
   "cell_type": "code",
   "execution_count": 21,
   "id": "67beceaa",
   "metadata": {},
   "outputs": [],
   "source": [
    "images3 = [cv2.imread(image) for image in glob.glob(file3)]\n"
   ]
  },
  {
   "cell_type": "code",
   "execution_count": 22,
   "id": "59e47f6a",
   "metadata": {},
   "outputs": [],
   "source": [
    "\n",
    "images4 = [cv2.imread(image) for image in glob.glob(file4)]\n"
   ]
  },
  {
   "cell_type": "code",
   "execution_count": 23,
   "id": "32ec86ec",
   "metadata": {},
   "outputs": [
    {
     "data": {
      "text/plain": [
       "(250, 250, 3)"
      ]
     },
     "execution_count": 23,
     "metadata": {},
     "output_type": "execute_result"
    }
   ],
   "source": [
    "images[0].shape"
   ]
  },
  {
   "cell_type": "code",
   "execution_count": 24,
   "id": "357223a1",
   "metadata": {},
   "outputs": [],
   "source": [
    "x = []\n",
    "y = []"
   ]
  },
  {
   "cell_type": "code",
   "execution_count": 25,
   "id": "01ab77d2",
   "metadata": {},
   "outputs": [],
   "source": [
    "for i in range(0,len(images)):\n",
    "    images[i] = cv2.resize(images[i], (250, 250))\n",
    "    norm = (images[i] - np.mean(images[i])) / np.std(images[i])\n",
    "    x.append(norm)\n",
    "    y.append(0)\n",
    "for i in range(0,len(images2)):\n",
    "    images2[i] = cv2.resize(images2[i], (250, 250))\n",
    "    norm = (images2[i] - np.mean(images2[i])) / np.std(images2[i])\n",
    "    x.append(norm)\n",
    "    y.append(1)\n",
    "for i in range(0,len(images3)):\n",
    "    images3[i] = cv2.resize(images3[i], (250, 250))\n",
    "    norm = (images3[i] - np.mean(images3[i])) / np.std(images3[i])\n",
    "    x.append(norm)\n",
    "    y.append(2)\n",
    "for i in range(0,len(images4)):\n",
    "    images4[i] = cv2.resize(images4[i], (250, 250))\n",
    "    norm = (images4[i] - np.mean(images4[i])) / np.std(images4[i])\n",
    "    x.append(norm)\n",
    "    y.append(3)\n"
   ]
  },
  {
   "cell_type": "code",
   "execution_count": 26,
   "id": "94a4557c",
   "metadata": {},
   "outputs": [
    {
     "name": "stdout",
     "output_type": "stream",
     "text": [
      "597\n",
      "597\n"
     ]
    }
   ],
   "source": [
    "print(len(y))\n",
    "print (len(x))\n"
   ]
  },
  {
   "cell_type": "code",
   "execution_count": 27,
   "id": "d488ddf5",
   "metadata": {},
   "outputs": [
    {
     "name": "stdout",
     "output_type": "stream",
     "text": [
      "(597, 250, 250, 3) (597, 4)\n"
     ]
    }
   ],
   "source": [
    "X = np.array(x).reshape(-1, 250, 250, 3)\n",
    "X = X.astype('float32')\n",
    "Y = np_utils.to_categorical(y, 4)\n",
    "print (X.shape, Y.shape)"
   ]
  },
  {
   "cell_type": "code",
   "execution_count": 28,
   "id": "97d2734b",
   "metadata": {},
   "outputs": [],
   "source": [
    "x_train,x_test,y_train,y_test=train_test_split(X,Y,test_size=0.3,shuffle=True)"
   ]
  },
  {
   "cell_type": "code",
   "execution_count": 29,
   "id": "2fe7c393",
   "metadata": {},
   "outputs": [
    {
     "name": "stdout",
     "output_type": "stream",
     "text": [
      "Epoch 1/5\n",
      "14/14 [==============================] - 14s 1s/step - loss: 5.5250 - accuracy: 0.3357\n",
      "Epoch 2/5\n",
      "14/14 [==============================] - 13s 953ms/step - loss: 1.2856 - accuracy: 0.4700\n",
      "Epoch 3/5\n",
      "14/14 [==============================] - 14s 1s/step - loss: 1.1807 - accuracy: 0.4892\n",
      "Epoch 4/5\n",
      "14/14 [==============================] - 13s 957ms/step - loss: 1.1013 - accuracy: 0.5348\n",
      "Epoch 5/5\n",
      "14/14 [==============================] - 14s 972ms/step - loss: 0.9307 - accuracy: 0.6451\n",
      "6/6 [==============================] - 1s 182ms/step - loss: 1.3497 - accuracy: 0.5056\n"
     ]
    },
    {
     "data": {
      "text/plain": [
       "[1.3497308492660522, 0.5055555701255798]"
      ]
     },
     "execution_count": 29,
     "metadata": {},
     "output_type": "execute_result"
    }
   ],
   "source": [
    "model = tf.keras.Sequential([\n",
    "tf.keras.layers.Conv2D(32, (3,3), padding='same', activation=tf.nn.relu,\n",
    "input_shape=(250, 250, 3)),\n",
    "tf.keras.layers.MaxPooling2D((2, 2), strides=2),\n",
    "tf.keras.layers.Conv2D(32, (3,3), padding='same', activation=tf.nn.relu),\n",
    "tf.keras.layers.MaxPooling2D((2, 2), strides=2),\n",
    "tf.keras.layers.Dropout(0.5),\n",
    "tf.keras.layers.Flatten(),\n",
    "tf.keras.layers.Dense(128, activation=tf.nn.relu),\n",
    "tf.keras.layers.Dense(4, activation=tf.nn.softmax)\n",
    "])\n",
    "model.compile(optimizer='adam', loss='categorical_crossentropy', metrics=['accuracy'])\n",
    "model.fit(x_train, y_train, epochs=5)\n",
    "model.evaluate(x_test, y_test)"
   ]
  }
 ],
 "metadata": {
  "kernelspec": {
   "display_name": "Python 3",
   "language": "python",
   "name": "python3"
  },
  "language_info": {
   "codemirror_mode": {
    "name": "ipython",
    "version": 3
   },
   "file_extension": ".py",
   "mimetype": "text/x-python",
   "name": "python",
   "nbconvert_exporter": "python",
   "pygments_lexer": "ipython3",
   "version": "3.8.8"
  }
 },
 "nbformat": 4,
 "nbformat_minor": 5
}
